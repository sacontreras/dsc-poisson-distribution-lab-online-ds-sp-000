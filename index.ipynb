{
 "cells": [
  {
   "cell_type": "markdown",
   "metadata": {},
   "source": [
    "# Poisson Distribution - Lab\n",
    "\n",
    "## Introduction\n",
    "\n",
    "In this lab, you will put your knowledge of the Poisson Distribution to use to solve some sample real-world problems!\n",
    "\n",
    "## Objectives\n",
    "\n",
    "You will be able to:\n",
    "\n",
    "* Calculate the probabilities of certain events that follow a Poisson distribution\n",
    "\n",
    "\n",
    "## Instructions\n",
    "\n",
    "Solve the following sample problems by using Python and your knowledge of the Poisson Distribution.\n",
    "\n",
    "## Getting Started\n",
    "\n",
    "Good Data Scientists plan ahead! Since you're going to be solving Poisson Distribution problems in this lab, it's probably a good idea to write a function that calculates Poisson Probabilities for us first. \n",
    "\n",
    "Recall that the Poisson Probability Formula is:\n",
    "\n",
    "$$p(x) = \\frac{\\lambda^xe^{-\\lambda}}{x!}$$\n",
    "\n",
    "Write a generalized function that takes in the appropriate parameters and returns the Poisson Probability.\n",
    "\n",
    "**_NOTE:_**  You can use `np.exp()` to quickly calculate $e$, and `math.factorial` (from the `math` library, not numpy) to calculate factorials. \n",
    "\n",
    "**_HINT:_** It's up to you whether or not you have your function calculate the value for lambda given $\\mu$ and the interval, or whether you calculate lambda yourself beforehand and just pass it into the function. "
   ]
  },
  {
   "cell_type": "code",
   "execution_count": 1,
   "metadata": {},
   "outputs": [],
   "source": [
    "import numpy as np\n",
    "from math import factorial"
   ]
  },
  {
   "cell_type": "code",
   "execution_count": 2,
   "metadata": {},
   "outputs": [],
   "source": [
    "def poisson_probability(p, n, x):\n",
    "    _lambda = p * n\n",
    "    return (_lambda**x * np.exp(-1 * _lambda))/factorial(x)"
   ]
  },
  {
   "cell_type": "markdown",
   "metadata": {},
   "source": [
    "## Question 1\n",
    "\n",
    "A fireman fights, on average, 4 fires per month. What is the probability that a fireman is called to two different fires this week?"
   ]
  },
  {
   "cell_type": "code",
   "execution_count": 3,
   "metadata": {},
   "outputs": [
    {
     "name": "stdout",
     "output_type": "stream",
     "text": [
      "0.18393972058572117\n"
     ]
    }
   ],
   "source": [
    "p_ff_mo = 4\n",
    "n_mo_wks = 1/4 # on average, there are supposedly 4 1/3 weeks per mo. but this example considers that there are only 4 weeks per month - very sloppy!\n",
    "prob_q1 = poisson_probability(p_ff_mo, n_mo_wks, 2)\n",
    "print(prob_q1)  # Expected Output:  0.18393972058572117"
   ]
  },
  {
   "cell_type": "markdown",
   "metadata": {},
   "source": [
    "## Question 2\n",
    "\n",
    "A car salesman sells an average of 4 cars per week.  What is the probability they sell a car today?"
   ]
  },
  {
   "cell_type": "code",
   "execution_count": 4,
   "metadata": {},
   "outputs": [
    {
     "name": "stdout",
     "output_type": "stream",
     "text": [
      "0.32269606971871956\n"
     ]
    }
   ],
   "source": [
    "p_cs_wk = 4\n",
    "n_wk_days = 1/7\n",
    "prob_q2 = poisson_probability(p_cs_wk, n_wk_days, 1)\n",
    "print(prob_q2)  # Expected Output: 0.32269606971871956"
   ]
  },
  {
   "cell_type": "markdown",
   "metadata": {},
   "source": [
    "## Question 3\n",
    "\n",
    "A website makes an average of 50 sales per day.  What is the probability that they make 3 sales in an hour? "
   ]
  },
  {
   "cell_type": "code",
   "execution_count": 5,
   "metadata": {},
   "outputs": [
    {
     "name": "stdout",
     "output_type": "stream",
     "text": [
      "0.1876484004932891\n"
     ]
    }
   ],
   "source": [
    "p_sales_day = 50\n",
    "n_day_hous = 1/24\n",
    "prob_q3 = poisson_probability(p_sales_day, n_day_hous, 3)\n",
    "print(prob_q3)  # Expected Output: 0.18764840049328912"
   ]
  },
  {
   "cell_type": "markdown",
   "metadata": {},
   "source": [
    "## Question 4\n",
    "\n",
    "A factory produces 250 cars per week (assume that the factory runs day and night all week with no down time). What is the probability that they produce 3 cars in the next hour?"
   ]
  },
  {
   "cell_type": "code",
   "execution_count": 6,
   "metadata": {},
   "outputs": [
    {
     "name": "stdout",
     "output_type": "stream",
     "text": [
      "0.12401361860520908\n"
     ]
    }
   ],
   "source": [
    "p_cars_wk = 250\n",
    "n_wk_hours = (1/7) * (1/24)\n",
    "prob_q4 = poisson_probability(p_cars_wk, n_wk_hours, 3)\n",
    "print(prob_q4)   # Expected Output: 0.1240136186052091"
   ]
  },
  {
   "cell_type": "markdown",
   "metadata": {},
   "source": [
    "## Question 5\n",
    "\n",
    "The following table shows the number of houses sold by a realtor each week for the month of May. What is the probability that they sell 3 houses next week?\n",
    "\n",
    "| Week | Houses Sold |\n",
    "|:----:|:-----------:|\n",
    "|   1  |      6      |\n",
    "|   2  |      2      |\n",
    "|   3  |      5      |\n",
    "|   4  |      4      |"
   ]
  },
  {
   "cell_type": "code",
   "execution_count": 7,
   "metadata": {},
   "outputs": [
    {
     "name": "stdout",
     "output_type": "stream",
     "text": [
      "0.18250047186175347\n"
     ]
    }
   ],
   "source": [
    "mean_weekly_sales = (6+2+5+4)/4\n",
    "n = 1\n",
    "prob_q5 = poisson_probability(mean_weekly_sales, n, 3)\n",
    "print(prob_q5)  # Expected Output: 0.18250047186175347"
   ]
  },
  {
   "cell_type": "markdown",
   "metadata": {},
   "source": [
    "## Summary\n",
    "\n",
    "In this lab, we got some practice making use of our knowledge of the Poisson Distribution to answer some real-world questions!"
   ]
  }
 ],
 "metadata": {
  "kernelspec": {
   "display_name": "Python [conda env:learn-env] *",
   "language": "python",
   "name": "conda-env-learn-env-py"
  },
  "language_info": {
   "codemirror_mode": {
    "name": "ipython",
    "version": 3
   },
   "file_extension": ".py",
   "mimetype": "text/x-python",
   "name": "python",
   "nbconvert_exporter": "python",
   "pygments_lexer": "ipython3",
   "version": "3.6.10"
  },
  "toc": {
   "base_numbering": 1,
   "nav_menu": {},
   "number_sections": true,
   "sideBar": true,
   "skip_h1_title": false,
   "title_cell": "Table of Contents",
   "title_sidebar": "Contents",
   "toc_cell": false,
   "toc_position": {},
   "toc_section_display": true,
   "toc_window_display": false
  }
 },
 "nbformat": 4,
 "nbformat_minor": 4
}
